{
 "cells": [
  {
   "cell_type": "code",
   "execution_count": 2,
   "id": "a826703a",
   "metadata": {},
   "outputs": [],
   "source": [
    "import random"
   ]
  },
  {
   "cell_type": "code",
   "execution_count": 12,
   "id": "f04f2ebb",
   "metadata": {},
   "outputs": [
    {
     "data": {
      "text/plain": [
       "63"
      ]
     },
     "execution_count": 12,
     "metadata": {},
     "output_type": "execute_result"
    }
   ],
   "source": [
    "# randint to create random nombers between the specified range\n",
    "random.randint(-90, 90)"
   ]
  },
  {
   "cell_type": "code",
   "execution_count": 14,
   "id": "7d291a7e",
   "metadata": {},
   "outputs": [
    {
     "data": {
      "text/plain": [
       "0.6227944436620442"
      ]
     },
     "execution_count": 14,
     "metadata": {},
     "output_type": "execute_result"
    }
   ],
   "source": [
    "# Another random method\n",
    "random.random()"
   ]
  },
  {
   "cell_type": "code",
   "execution_count": 17,
   "id": "cb3d6f57",
   "metadata": {},
   "outputs": [
    {
     "data": {
      "text/plain": [
       "[-47.467655525034935,\n",
       " -57.69129613126341,\n",
       " -4.758119217372779,\n",
       " 20.79122688222731,\n",
       " 0.23458862707140837,\n",
       " -65.10617816348245,\n",
       " -28.060923486245706,\n",
       " 48.69367281545518,\n",
       " -82.18468656995499,\n",
       " 2.8418851919215964]"
      ]
     },
     "execution_count": 17,
     "metadata": {},
     "output_type": "execute_result"
    }
   ],
   "source": [
    "# This algorithm helps us to create random latitudes\n",
    "x = 1\n",
    "latitudes = []\n",
    "while x < 11:\n",
    "    random_lat = random.randint(-90, 89) + random.random()\n",
    "    latitudes.append(random_lat)\n",
    "    x += 1\n",
    "    \n",
    "latitudes"
   ]
  },
  {
   "cell_type": "code",
   "execution_count": 38,
   "id": "82191910",
   "metadata": {},
   "outputs": [
    {
     "data": {
      "text/plain": [
       "-38"
      ]
     },
     "execution_count": 38,
     "metadata": {},
     "output_type": "execute_result"
    }
   ],
   "source": [
    "random.randrange(-90, 90, step=2) # If we do not add the step param, default value is 1"
   ]
  },
  {
   "cell_type": "code",
   "execution_count": 48,
   "id": "b19ad929",
   "metadata": {},
   "outputs": [
    {
     "data": {
      "text/plain": [
       "13.942966031843952"
      ]
     },
     "execution_count": 48,
     "metadata": {},
     "output_type": "execute_result"
    }
   ],
   "source": [
    "random.uniform(-90, 90)"
   ]
  },
  {
   "cell_type": "code",
   "execution_count": 49,
   "id": "707cc4be",
   "metadata": {},
   "outputs": [],
   "source": [
    "# Import the NumPy module.\n",
    "import numpy as np"
   ]
  },
  {
   "cell_type": "code",
   "execution_count": 58,
   "id": "28f3a7fd",
   "metadata": {},
   "outputs": [
    {
     "data": {
      "text/plain": [
       "32.69923404355899"
      ]
     },
     "execution_count": 58,
     "metadata": {},
     "output_type": "execute_result"
    }
   ],
   "source": [
    "np.random.uniform(-90.000, 90.000)\n",
    "#np.random.uniform(low=-90, high=90) # Another option"
   ]
  },
  {
   "cell_type": "code",
   "execution_count": 61,
   "id": "bdcf566e",
   "metadata": {},
   "outputs": [
    {
     "data": {
      "text/plain": [
       "array([ 6.24351973e+01,  8.01198431e+01,  3.10665464e+01, -7.46334832e+01,\n",
       "       -4.42281515e+01,  1.06116168e+01, -8.08199322e+01, -8.59591772e+01,\n",
       "       -1.75301341e+01, -3.29494617e+01,  4.40016477e+01, -4.82059817e+01,\n",
       "       -8.33838072e+01,  5.72735277e+01, -3.14550185e+01, -4.69414074e+01,\n",
       "       -7.20174768e+01, -1.01944608e+01, -2.98984769e+01,  3.05249371e+01,\n",
       "       -1.55752943e+00,  1.04982781e+01, -3.55985507e+01, -2.82277659e+01,\n",
       "       -4.13131213e+01,  1.50628483e+01,  5.07261713e+01, -5.86759129e+01,\n",
       "        3.59627929e+01,  7.67956758e+01,  9.37193788e+00, -8.26532437e+01,\n",
       "        6.74427643e+00,  4.97727309e+01,  1.09847154e+01,  2.84947413e+01,\n",
       "       -3.61204512e+01, -2.82082758e+01, -3.56227888e+01,  1.16867017e+01,\n",
       "       -8.56031430e+00, -6.86674485e+00, -5.16510804e+01, -1.44176246e+01,\n",
       "        2.11291460e-02,  3.34210513e-02,  7.83780921e+01,  6.50832168e+01,\n",
       "       -6.06333932e+01, -3.65434890e+01])"
      ]
     },
     "execution_count": 61,
     "metadata": {},
     "output_type": "execute_result"
    }
   ],
   "source": [
    "# The size perameter tells how many random numbers we want. Produces an array\n",
    "np.random.uniform(-90.000, 90.000, size=50) "
   ]
  },
  {
   "cell_type": "code",
   "execution_count": 63,
   "id": "e5aac5c3",
   "metadata": {},
   "outputs": [],
   "source": [
    "# Import timeit.\n",
    "import timeit"
   ]
  },
  {
   "cell_type": "code",
   "execution_count": 65,
   "id": "4a4b3342",
   "metadata": {},
   "outputs": [
    {
     "name": "stdout",
     "output_type": "stream",
     "text": [
      "11.5 µs ± 158 ns per loop (mean ± std. dev. of 7 runs, 100000 loops each)\n"
     ]
    }
   ],
   "source": [
    "%timeit np.random.uniform(-90.000, 90.000, size=1500)"
   ]
  },
  {
   "cell_type": "code",
   "execution_count": 66,
   "id": "98cf9233",
   "metadata": {},
   "outputs": [
    {
     "name": "stdout",
     "output_type": "stream",
     "text": [
      "1.23 ms ± 18.8 µs per loop (mean ± std. dev. of 7 runs, 1000 loops each)\n"
     ]
    }
   ],
   "source": [
    "def latitudes(size):\n",
    "    latitudes = []\n",
    "    x = 0\n",
    "    while x < (size):\n",
    "        random_lat = random.randint(-90, 90) + random.random()\n",
    "        latitudes.append(random_lat)\n",
    "        x += 1\n",
    "    return latitudes\n",
    "\n",
    "# Call the function with 1500.\n",
    "%timeit latitudes(1500)"
   ]
  },
  {
   "cell_type": "code",
   "execution_count": null,
   "id": "292e2503",
   "metadata": {},
   "outputs": [],
   "source": []
  }
 ],
 "metadata": {
  "kernelspec": {
   "display_name": "PythonData",
   "language": "python",
   "name": "pythondata"
  },
  "language_info": {
   "codemirror_mode": {
    "name": "ipython",
    "version": 3
   },
   "file_extension": ".py",
   "mimetype": "text/x-python",
   "name": "python",
   "nbconvert_exporter": "python",
   "pygments_lexer": "ipython3",
   "version": "3.9.7"
  }
 },
 "nbformat": 4,
 "nbformat_minor": 5
}
